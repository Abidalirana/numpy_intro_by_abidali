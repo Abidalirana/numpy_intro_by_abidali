{
 "cells": [
  {
   "cell_type": "code",
   "execution_count": 1,
   "id": "f891d36c-ab6b-4c0c-bbc5-018139dc65fa",
   "metadata": {},
   "outputs": [],
   "source": [
    "import numpy as np\n",
    "\n",
    "\n"
   ]
  },
  {
   "cell_type": "code",
   "execution_count": 2,
   "id": "105de03d-fc5e-4d9e-95e8-3a77a5bd0b1d",
   "metadata": {},
   "outputs": [],
   "source": [
    "a1d=np.array([1, 2, 3])\n"
   ]
  },
  {
   "cell_type": "code",
   "execution_count": 3,
   "id": "072aec3e-d155-4d96-8d8f-d1f04b547ec6",
   "metadata": {},
   "outputs": [
    {
     "data": {
      "text/plain": [
       "array([1, 2, 3])"
      ]
     },
     "execution_count": 3,
     "metadata": {},
     "output_type": "execute_result"
    }
   ],
   "source": [
    "a1d\n"
   ]
  },
  {
   "cell_type": "code",
   "execution_count": 4,
   "id": "59236422-f60f-4afa-9273-ce9edd83aee8",
   "metadata": {},
   "outputs": [
    {
     "data": {
      "text/plain": [
       "module"
      ]
     },
     "execution_count": 4,
     "metadata": {},
     "output_type": "execute_result"
    }
   ],
   "source": [
    "type(np)"
   ]
  },
  {
   "cell_type": "code",
   "execution_count": 5,
   "id": "dadba7f8-62d8-425b-a9f4-6375e2be3f6a",
   "metadata": {},
   "outputs": [
    {
     "data": {
      "text/plain": [
       "numpy.ndarray"
      ]
     },
     "execution_count": 5,
     "metadata": {},
     "output_type": "execute_result"
    }
   ],
   "source": [
    "type(a1d)"
   ]
  },
  {
   "cell_type": "code",
   "execution_count": 6,
   "id": "b1bbbb89-2078-46a3-b959-7a4fd8c753bf",
   "metadata": {},
   "outputs": [],
   "source": [
    "a2d=np.array([[1, 2, 3],[4, 5, 6]])"
   ]
  },
  {
   "cell_type": "code",
   "execution_count": 7,
   "id": "20b2c8cd-1473-42bc-afbd-5e11f68a125c",
   "metadata": {},
   "outputs": [
    {
     "data": {
      "text/plain": [
       "array([[1, 2, 3],\n",
       "       [4, 5, 6]])"
      ]
     },
     "execution_count": 7,
     "metadata": {},
     "output_type": "execute_result"
    }
   ],
   "source": [
    "a2d"
   ]
  },
  {
   "cell_type": "code",
   "execution_count": 8,
   "id": "c7ea0b33-f9eb-4a4c-aff1-344c76a1d0f6",
   "metadata": {},
   "outputs": [],
   "source": [
    "a3d=np.array([[[1.1,2,3],[4,5,6],[5,6,9]],[[1,2,3],[4,5,6],[5,6,9]]]) "
   ]
  },
  {
   "cell_type": "code",
   "execution_count": 9,
   "id": "d0a09a13-b996-4f25-85c9-8551039cb855",
   "metadata": {},
   "outputs": [
    {
     "data": {
      "text/plain": [
       "array([[[1.1, 2. , 3. ],\n",
       "        [4. , 5. , 6. ],\n",
       "        [5. , 6. , 9. ]],\n",
       "\n",
       "       [[1. , 2. , 3. ],\n",
       "        [4. , 5. , 6. ],\n",
       "        [5. , 6. , 9. ]]])"
      ]
     },
     "execution_count": 9,
     "metadata": {},
     "output_type": "execute_result"
    }
   ],
   "source": [
    "a3d"
   ]
  },
  {
   "cell_type": "code",
   "execution_count": 10,
   "id": "e4bf0fe0-c534-4a40-9562-aa15078459f5",
   "metadata": {},
   "outputs": [
    {
     "name": "stdout",
     "output_type": "stream",
     "text": [
      "[[1.1 2.  3. ]\n",
      " [4.  5.  6. ]\n",
      " [5.  6.  9. ]]\n",
      "\n",
      "[[1. 2. 3.]\n",
      " [4. 5. 6.]\n",
      " [5. 6. 9.]]\n",
      "\n"
     ]
    }
   ],
   "source": [
    "for block in a3d:\n",
    "    print(block)\n",
    "    print()  # Add space between blocks\n"
   ]
  },
  {
   "cell_type": "code",
   "execution_count": 11,
   "id": "2e735768-71a7-456b-a52f-957434a56d9e",
   "metadata": {},
   "outputs": [
    {
     "name": "stdout",
     "output_type": "stream",
     "text": [
      "[[1.1 2.  3. ]\n",
      " [4.  5.  6. ]\n",
      " [5.  6.  9. ]]\n",
      "\n",
      "[[1. 2. 3.]\n",
      " [4. 5. 6.]\n",
      " [5. 6. 9.]]\n",
      "\n"
     ]
    }
   ],
   "source": [
    "for line in a3d:\n",
    "    print(line)\n",
    "    print()  # Add space between blocks\n"
   ]
  },
  {
   "cell_type": "code",
   "execution_count": 12,
   "id": "bdb6be2c-a623-4fe8-aae8-2d936f4cb9fb",
   "metadata": {},
   "outputs": [
    {
     "data": {
      "text/plain": [
       "(2, 3)"
      ]
     },
     "execution_count": 12,
     "metadata": {},
     "output_type": "execute_result"
    }
   ],
   "source": [
    "a2d.shape"
   ]
  },
  {
   "cell_type": "code",
   "execution_count": 13,
   "id": "57113a7f-8296-4b1e-82f3-838f7dca9378",
   "metadata": {},
   "outputs": [
    {
     "data": {
      "text/plain": [
       "(3,)"
      ]
     },
     "execution_count": 13,
     "metadata": {},
     "output_type": "execute_result"
    }
   ],
   "source": [
    "a1d.shape\n"
   ]
  },
  {
   "cell_type": "code",
   "execution_count": 14,
   "id": "d0e87922-1752-4ec1-ac1b-5de2ef3e9745",
   "metadata": {},
   "outputs": [
    {
     "data": {
      "text/plain": [
       "dtype('float64')"
      ]
     },
     "execution_count": 14,
     "metadata": {},
     "output_type": "execute_result"
    }
   ],
   "source": [
    "a3d.dtype"
   ]
  },
  {
   "cell_type": "code",
   "execution_count": 15,
   "id": "7a915052-212a-4510-80e6-e2b9db9478a6",
   "metadata": {},
   "outputs": [
    {
     "data": {
      "text/plain": [
       "18"
      ]
     },
     "execution_count": 15,
     "metadata": {},
     "output_type": "execute_result"
    }
   ],
   "source": [
    "a3d.size"
   ]
  },
  {
   "cell_type": "code",
   "execution_count": 16,
   "id": "1e01126d-06f6-4923-b534-892f8bf5afd0",
   "metadata": {},
   "outputs": [
    {
     "data": {
      "text/plain": [
       "numpy.ndarray"
      ]
     },
     "execution_count": 16,
     "metadata": {},
     "output_type": "execute_result"
    }
   ],
   "source": [
    "type(a3d)"
   ]
  },
  {
   "cell_type": "code",
   "execution_count": 17,
   "id": "71c9eef3-0657-4418-86c8-6fa326dcfef0",
   "metadata": {},
   "outputs": [],
   "source": [
    "import pandas as pd"
   ]
  },
  {
   "cell_type": "code",
   "execution_count": 18,
   "id": "48a49045-c925-4d5b-91d1-de86250ba9e2",
   "metadata": {},
   "outputs": [],
   "source": [
    "df = pd.DataFrame(a2d)"
   ]
  },
  {
   "cell_type": "code",
   "execution_count": 19,
   "id": "6ee76a88-98f7-4a27-999d-673f024cb443",
   "metadata": {},
   "outputs": [
    {
     "data": {
      "text/html": [
       "<div>\n",
       "<style scoped>\n",
       "    .dataframe tbody tr th:only-of-type {\n",
       "        vertical-align: middle;\n",
       "    }\n",
       "\n",
       "    .dataframe tbody tr th {\n",
       "        vertical-align: top;\n",
       "    }\n",
       "\n",
       "    .dataframe thead th {\n",
       "        text-align: right;\n",
       "    }\n",
       "</style>\n",
       "<table border=\"1\" class=\"dataframe\">\n",
       "  <thead>\n",
       "    <tr style=\"text-align: right;\">\n",
       "      <th></th>\n",
       "      <th>0</th>\n",
       "      <th>1</th>\n",
       "      <th>2</th>\n",
       "    </tr>\n",
       "  </thead>\n",
       "  <tbody>\n",
       "    <tr>\n",
       "      <th>0</th>\n",
       "      <td>1</td>\n",
       "      <td>2</td>\n",
       "      <td>3</td>\n",
       "    </tr>\n",
       "    <tr>\n",
       "      <th>1</th>\n",
       "      <td>4</td>\n",
       "      <td>5</td>\n",
       "      <td>6</td>\n",
       "    </tr>\n",
       "  </tbody>\n",
       "</table>\n",
       "</div>"
      ],
      "text/plain": [
       "   0  1  2\n",
       "0  1  2  3\n",
       "1  4  5  6"
      ]
     },
     "execution_count": 19,
     "metadata": {},
     "output_type": "execute_result"
    }
   ],
   "source": [
    "df"
   ]
  },
  {
   "cell_type": "code",
   "execution_count": 20,
   "id": "b0f6002c-dac7-437a-87d8-432a1ac4d92c",
   "metadata": {},
   "outputs": [],
   "source": [
    "test_array=np.array([1,2,3])"
   ]
  },
  {
   "cell_type": "code",
   "execution_count": 21,
   "id": "55ea8725-f10b-4a4d-a35a-f84e4da27311",
   "metadata": {},
   "outputs": [
    {
     "data": {
      "text/plain": [
       "array([1, 2, 3])"
      ]
     },
     "execution_count": 21,
     "metadata": {},
     "output_type": "execute_result"
    }
   ],
   "source": [
    "test_array"
   ]
  },
  {
   "cell_type": "code",
   "execution_count": 22,
   "id": "788798b1-cc4b-49d4-b0b7-e19f5b6708a2",
   "metadata": {},
   "outputs": [],
   "source": [
    "#ones\n",
    "#zeros\n",
    "#random\n",
    "zeros=np.zeros([2,3])"
   ]
  },
  {
   "cell_type": "code",
   "execution_count": 23,
   "id": "9312ea88-d1d3-4c29-a43a-25baf524e01b",
   "metadata": {},
   "outputs": [
    {
     "data": {
      "text/plain": [
       "array([[0., 0., 0.],\n",
       "       [0., 0., 0.]])"
      ]
     },
     "execution_count": 23,
     "metadata": {},
     "output_type": "execute_result"
    }
   ],
   "source": [
    "zeros"
   ]
  },
  {
   "cell_type": "code",
   "execution_count": 24,
   "id": "281a9ff5-ee5a-4a26-8965-4833fa390d8e",
   "metadata": {},
   "outputs": [
    {
     "data": {
      "text/plain": [
       "numpy.ndarray"
      ]
     },
     "execution_count": 24,
     "metadata": {},
     "output_type": "execute_result"
    }
   ],
   "source": [
    "type(zeros)"
   ]
  },
  {
   "cell_type": "code",
   "execution_count": 25,
   "id": "b38ffb4c-88c5-49f3-a297-f5579b820207",
   "metadata": {},
   "outputs": [],
   "source": [
    "range_array=np.arange(0,10,2)\n",
    "#arage 3 properties (strat stop step)\n",
    "\n",
    "\n",
    "\n"
   ]
  },
  {
   "cell_type": "code",
   "execution_count": 26,
   "id": "58f92e47-7727-4678-be09-176e69634ace",
   "metadata": {},
   "outputs": [
    {
     "data": {
      "text/plain": [
       "array([0, 2, 4, 6, 8])"
      ]
     },
     "execution_count": 26,
     "metadata": {},
     "output_type": "execute_result"
    }
   ],
   "source": [
    "range_array"
   ]
  },
  {
   "cell_type": "code",
   "execution_count": 27,
   "id": "30ae397d-2010-446b-8a85-91b638abd4b0",
   "metadata": {},
   "outputs": [],
   "source": [
    "random_matrix=np.random.randint(0, 10, size=(3,5)) "
   ]
  },
  {
   "cell_type": "code",
   "execution_count": 28,
   "id": "be62d840-e06d-40bc-be94-427dd110b66a",
   "metadata": {},
   "outputs": [
    {
     "data": {
      "text/plain": [
       "array([[3, 4, 5, 5, 6],\n",
       "       [7, 2, 1, 6, 9],\n",
       "       [7, 9, 0, 9, 0]], dtype=int32)"
      ]
     },
     "execution_count": 28,
     "metadata": {},
     "output_type": "execute_result"
    }
   ],
   "source": [
    "random_matrix"
   ]
  },
  {
   "cell_type": "code",
   "execution_count": 29,
   "id": "fb3c431d-40bd-41d7-9d7f-9db9a9ec39e5",
   "metadata": {},
   "outputs": [
    {
     "data": {
      "text/plain": [
       "15"
      ]
     },
     "execution_count": 29,
     "metadata": {},
     "output_type": "execute_result"
    }
   ],
   "source": [
    "random_matrix.size"
   ]
  },
  {
   "cell_type": "code",
   "execution_count": 30,
   "id": "53bb9028-47ed-448e-9170-9cd2044fd7ee",
   "metadata": {},
   "outputs": [],
   "source": [
    "np.random.seed(seed=0)    #after putting seed no value will be changed..\n",
    "rand_matrix=np.random.rand(3,5)  #auto range 0-1"
   ]
  },
  {
   "cell_type": "code",
   "execution_count": 31,
   "id": "4cedf510-bb8c-4fd7-ad1b-66b5b1694e82",
   "metadata": {},
   "outputs": [
    {
     "data": {
      "text/plain": [
       "array([[0.5488135 , 0.71518937, 0.60276338, 0.54488318, 0.4236548 ],\n",
       "       [0.64589411, 0.43758721, 0.891773  , 0.96366276, 0.38344152],\n",
       "       [0.79172504, 0.52889492, 0.56804456, 0.92559664, 0.07103606]])"
      ]
     },
     "execution_count": 31,
     "metadata": {},
     "output_type": "execute_result"
    }
   ],
   "source": [
    "rand_matrix"
   ]
  },
  {
   "cell_type": "code",
   "execution_count": null,
   "id": "0b0c95c2-0296-4bc7-9dcc-b22580a14d44",
   "metadata": {},
   "outputs": [],
   "source": [
    " "
   ]
  },
  {
   "cell_type": "code",
   "execution_count": 32,
   "id": "719d6d9c-7bb3-4896-ae1b-8a7bbde1fcee",
   "metadata": {},
   "outputs": [
    {
     "data": {
      "text/plain": [
       "array([[[1.1, 2. , 3. ],\n",
       "        [4. , 5. , 6. ],\n",
       "        [5. , 6. , 9. ]],\n",
       "\n",
       "       [[1. , 2. , 3. ],\n",
       "        [4. , 5. , 6. ],\n",
       "        [5. , 6. , 9. ]]])"
      ]
     },
     "execution_count": 32,
     "metadata": {},
     "output_type": "execute_result"
    }
   ],
   "source": [
    "a3d\n"
   ]
  },
  {
   "cell_type": "markdown",
   "id": "ac77e2e8-1e70-47b8-a8e2-341a8a8be02b",
   "metadata": {
    "jp-MarkdownHeadingCollapsed": true
   },
   "source": [
    "a1d\n"
   ]
  },
  {
   "cell_type": "code",
   "execution_count": 33,
   "id": "526b84d2-9a56-48b4-a05d-e0544fdbb257",
   "metadata": {},
   "outputs": [
    {
     "data": {
      "text/plain": [
       "array([[1, 2, 3],\n",
       "       [4, 5, 6]])"
      ]
     },
     "execution_count": 33,
     "metadata": {},
     "output_type": "execute_result"
    }
   ],
   "source": [
    "a2d"
   ]
  },
  {
   "cell_type": "code",
   "execution_count": 34,
   "id": "4d7c0895-fa06-4a90-9f8e-bf13eafc59eb",
   "metadata": {},
   "outputs": [
    {
     "data": {
      "text/plain": [
       "array([[[1.1, 2. , 3. ],\n",
       "        [4. , 5. , 6. ],\n",
       "        [5. , 6. , 9. ]],\n",
       "\n",
       "       [[1. , 2. , 3. ],\n",
       "        [4. , 5. , 6. ],\n",
       "        [5. , 6. , 9. ]]])"
      ]
     },
     "execution_count": 34,
     "metadata": {},
     "output_type": "execute_result"
    }
   ],
   "source": [
    "a3d"
   ]
  },
  {
   "cell_type": "code",
   "execution_count": 35,
   "id": "63d4040a-971e-402a-bbce-63667f081962",
   "metadata": {},
   "outputs": [
    {
     "data": {
      "text/plain": [
       "array([1, 2, 3])"
      ]
     },
     "execution_count": 35,
     "metadata": {},
     "output_type": "execute_result"
    }
   ],
   "source": [
    "a2d[0]"
   ]
  },
  {
   "cell_type": "code",
   "execution_count": 36,
   "id": "05114da5-84af-4184-9a97-fd92a58eb55f",
   "metadata": {},
   "outputs": [
    {
     "data": {
      "text/plain": [
       "array([4, 5, 6])"
      ]
     },
     "execution_count": 36,
     "metadata": {},
     "output_type": "execute_result"
    }
   ],
   "source": [
    "a2d[1]"
   ]
  },
  {
   "cell_type": "code",
   "execution_count": 37,
   "id": "1af98a5b-f395-439c-a22d-08f556d243f7",
   "metadata": {},
   "outputs": [
    {
     "data": {
      "text/plain": [
       "array([[[1.1, 2. , 3. ],\n",
       "        [4. , 5. , 6. ],\n",
       "        [5. , 6. , 9. ]],\n",
       "\n",
       "       [[1. , 2. , 3. ],\n",
       "        [4. , 5. , 6. ],\n",
       "        [5. , 6. , 9. ]]])"
      ]
     },
     "execution_count": 37,
     "metadata": {},
     "output_type": "execute_result"
    }
   ],
   "source": [
    "a3d"
   ]
  },
  {
   "cell_type": "code",
   "execution_count": 38,
   "id": "997376ab-cf6f-427d-b082-7cc8f45805c0",
   "metadata": {},
   "outputs": [
    {
     "data": {
      "text/plain": [
       "array([[1.1, 2. , 3. ],\n",
       "       [4. , 5. , 6. ],\n",
       "       [5. , 6. , 9. ]])"
      ]
     },
     "execution_count": 38,
     "metadata": {},
     "output_type": "execute_result"
    }
   ],
   "source": [
    "a3d[0\n",
    "]"
   ]
  },
  {
   "cell_type": "code",
   "execution_count": 39,
   "id": "c7b7164b-a0e8-4e7e-be7e-85005567cc1a",
   "metadata": {},
   "outputs": [
    {
     "data": {
      "text/plain": [
       "array([[1., 2., 3.],\n",
       "       [4., 5., 6.],\n",
       "       [5., 6., 9.]])"
      ]
     },
     "execution_count": 39,
     "metadata": {},
     "output_type": "execute_result"
    }
   ],
   "source": [
    "a3d[1]"
   ]
  },
  {
   "cell_type": "code",
   "execution_count": 40,
   "id": "6a5e0784-773a-4ab0-bb3b-9def349cb554",
   "metadata": {},
   "outputs": [
    {
     "data": {
      "text/plain": [
       "array([[[1.1, 2. , 3. ]],\n",
       "\n",
       "       [[1. , 2. , 3. ]]])"
      ]
     },
     "execution_count": 40,
     "metadata": {},
     "output_type": "execute_result"
    }
   ],
   "source": [
    "a3d[:2,:1]"
   ]
  },
  {
   "cell_type": "code",
   "execution_count": 41,
   "id": "c4510805-bf1c-49e2-b911-efbd7740f026",
   "metadata": {},
   "outputs": [
    {
     "data": {
      "text/plain": [
       "array([[[1.1, 2. ]],\n",
       "\n",
       "       [[1. , 2. ]]])"
      ]
     },
     "execution_count": 41,
     "metadata": {},
     "output_type": "execute_result"
    }
   ],
   "source": [
    "a3d[:2,:1,:2]"
   ]
  },
  {
   "cell_type": "code",
   "execution_count": 42,
   "id": "8446c645-1acf-4890-ae1c-4eb946ce34bd",
   "metadata": {},
   "outputs": [],
   "source": [
    "arandom =np.random.randint(10, size=(2,3))   # creating a random matrixes with 3 column 2 rows"
   ]
  },
  {
   "cell_type": "code",
   "execution_count": 43,
   "id": "e8ec208a-d5b9-40bb-84fc-dee7b2bc9ac7",
   "metadata": {},
   "outputs": [
    {
     "data": {
      "text/plain": [
       "array([[9, 4, 3],\n",
       "       [0, 3, 5]], dtype=int32)"
      ]
     },
     "execution_count": 43,
     "metadata": {},
     "output_type": "execute_result"
    }
   ],
   "source": [
    "arandom"
   ]
  },
  {
   "cell_type": "code",
   "execution_count": 44,
   "id": "bcd2abce-ace4-4d43-997c-29b856bd0d1a",
   "metadata": {},
   "outputs": [],
   "source": [
    "arandom =np.random.randint(10, size=(3,3,3)) #create 3 column 3 rows 3 metrixes "
   ]
  },
  {
   "cell_type": "code",
   "execution_count": 48,
   "id": "e82aa95f-1e2d-4bf6-8969-4baf9b6bc44a",
   "metadata": {},
   "outputs": [
    {
     "ename": "NameError",
     "evalue": "name 'arandoma' is not defined",
     "output_type": "error",
     "traceback": [
      "\u001b[1;31m---------------------------------------------------------------------------\u001b[0m",
      "\u001b[1;31mNameError\u001b[0m                                 Traceback (most recent call last)",
      "Cell \u001b[1;32mIn[48], line 1\u001b[0m\n\u001b[1;32m----> 1\u001b[0m arandoma\n",
      "\u001b[1;31mNameError\u001b[0m: name 'arandoma' is not defined"
     ]
    }
   ],
   "source": [
    "arandoma"
   ]
  },
  {
   "cell_type": "code",
   "execution_count": null,
   "id": "c71e9c19-87f1-4f78-8649-8d612851bb2e",
   "metadata": {},
   "outputs": [],
   "source": [
    "arandom =np.random.randint(10, size=(3,4,5)) #create 5 column 4 rows 3 metrixes "
   ]
  },
  {
   "cell_type": "code",
   "execution_count": 49,
   "id": "435b1aab-1ac1-46dd-a055-c75a90f7dc30",
   "metadata": {},
   "outputs": [],
   "source": [
    "arandomarandom =np.random.randint(10, size=(3,4,5)) #create 5 column 4 rows 3 metrixes "
   ]
  },
  {
   "cell_type": "code",
   "execution_count": 50,
   "id": "4eafc19b-89c0-4f6f-91cc-e3f7f890a294",
   "metadata": {},
   "outputs": [],
   "source": [
    "arandom =np.random.randint(10, size=(2,3,4,5)) #create 5 column 4 rows 3 metrixes and make whole one more so total will be a six matrixs"
   ]
  },
  {
   "cell_type": "code",
   "execution_count": 51,
   "id": "d10525e6-f3b3-4b96-ad09-2dae6cc10703",
   "metadata": {
    "scrolled": true
   },
   "outputs": [
    {
     "data": {
      "text/plain": [
       "array([[[[3, 4, 1, 2, 9],\n",
       "         [1, 4, 6, 8, 2],\n",
       "         [3, 0, 0, 6, 0],\n",
       "         [6, 3, 3, 8, 8]],\n",
       "\n",
       "        [[8, 2, 3, 2, 0],\n",
       "         [8, 8, 3, 8, 2],\n",
       "         [8, 4, 3, 0, 4],\n",
       "         [3, 6, 9, 8, 0]],\n",
       "\n",
       "        [[8, 5, 9, 0, 9],\n",
       "         [6, 5, 3, 1, 8],\n",
       "         [0, 4, 9, 6, 5],\n",
       "         [7, 8, 8, 9, 2]]],\n",
       "\n",
       "\n",
       "       [[[8, 6, 6, 9, 1],\n",
       "         [6, 8, 8, 3, 2],\n",
       "         [3, 6, 3, 6, 5],\n",
       "         [7, 0, 8, 4, 6]],\n",
       "\n",
       "        [[5, 8, 2, 3, 9],\n",
       "         [7, 5, 3, 4, 5],\n",
       "         [3, 3, 7, 9, 9],\n",
       "         [9, 7, 3, 2, 3]],\n",
       "\n",
       "        [[9, 7, 7, 5, 1],\n",
       "         [2, 2, 8, 1, 5],\n",
       "         [8, 4, 0, 2, 5],\n",
       "         [5, 0, 8, 1, 1]]]], dtype=int32)"
      ]
     },
     "execution_count": 51,
     "metadata": {},
     "output_type": "execute_result"
    }
   ],
   "source": [
    "arandom "
   ]
  },
  {
   "cell_type": "code",
   "execution_count": 52,
   "id": "fb408055-6814-4582-b6d1-9511baab10c5",
   "metadata": {},
   "outputs": [],
   "source": [
    "#array manipulation\n"
   ]
  },
  {
   "cell_type": "code",
   "execution_count": 53,
   "id": "e588334d-fa06-40a2-9ba4-ffb9e03a1d59",
   "metadata": {},
   "outputs": [
    {
     "data": {
      "text/plain": [
       "array([1, 2, 3])"
      ]
     },
     "execution_count": 53,
     "metadata": {},
     "output_type": "execute_result"
    }
   ],
   "source": [
    "a1d       #a1d manipulatee with ones "
   ]
  },
  {
   "cell_type": "code",
   "execution_count": 54,
   "id": "9be70519-36b3-49c9-b831-5d3de325c699",
   "metadata": {},
   "outputs": [
    {
     "data": {
      "text/plain": [
       "array([[1, 2, 3],\n",
       "       [4, 5, 6]])"
      ]
     },
     "execution_count": 54,
     "metadata": {},
     "output_type": "execute_result"
    }
   ],
   "source": [
    "a2d"
   ]
  },
  {
   "cell_type": "code",
   "execution_count": 55,
   "id": "4e3fe808-3e67-4a98-a558-ee04551be29d",
   "metadata": {},
   "outputs": [],
   "source": [
    "ones=np.ones([2,3])"
   ]
  },
  {
   "cell_type": "code",
   "execution_count": 56,
   "id": "ed0f6777-73bc-4a07-8e60-4c357c74f140",
   "metadata": {},
   "outputs": [
    {
     "data": {
      "text/plain": [
       "array([[1., 1., 1.],\n",
       "       [1., 1., 1.]])"
      ]
     },
     "execution_count": 56,
     "metadata": {},
     "output_type": "execute_result"
    }
   ],
   "source": [
    "ones"
   ]
  },
  {
   "cell_type": "code",
   "execution_count": 57,
   "id": "8210b034-5518-4b34-a010-c5940c91d9ae",
   "metadata": {},
   "outputs": [
    {
     "data": {
      "text/plain": [
       "array([[2., 3., 4.],\n",
       "       [2., 3., 4.]])"
      ]
     },
     "execution_count": 57,
     "metadata": {},
     "output_type": "execute_result"
    }
   ],
   "source": [
    "a1d+ones   #it will add all elemant of a1d into theones array.."
   ]
  },
  {
   "cell_type": "code",
   "execution_count": 58,
   "id": "e2e7df66-9eb7-446b-a2d9-9578b4ec1069",
   "metadata": {},
   "outputs": [
    {
     "data": {
      "text/plain": [
       "array([[1. , 1. , 1. ],\n",
       "       [4. , 2.5, 2. ]])"
      ]
     },
     "execution_count": 58,
     "metadata": {},
     "output_type": "execute_result"
    }
   ],
   "source": [
    "a2d/a1d"
   ]
  },
  {
   "cell_type": "code",
   "execution_count": 59,
   "id": "708d0856-d0cd-4e94-b677-72d73212206c",
   "metadata": {},
   "outputs": [
    {
     "data": {
      "text/plain": [
       "array([[1, 1, 1],\n",
       "       [4, 2, 2]])"
      ]
     },
     "execution_count": 59,
     "metadata": {},
     "output_type": "execute_result"
    }
   ],
   "source": [
    "a2d//a1d"
   ]
  },
  {
   "cell_type": "code",
   "execution_count": 60,
   "id": "902c48c3-d318-4e0d-b772-79eefc669819",
   "metadata": {},
   "outputs": [
    {
     "data": {
      "text/plain": [
       "array([1, 2, 3])"
      ]
     },
     "execution_count": 60,
     "metadata": {},
     "output_type": "execute_result"
    }
   ],
   "source": [
    "a1d"
   ]
  },
  {
   "cell_type": "markdown",
   "id": "335db3c8-c10d-45ed-827b-779d3199d51e",
   "metadata": {},
   "source": [
    "a1d**2"
   ]
  },
  {
   "cell_type": "code",
   "execution_count": 61,
   "id": "f05d706d-73d1-4a9a-92e8-9c972743466d",
   "metadata": {},
   "outputs": [
    {
     "data": {
      "text/plain": [
       "array([1, 4, 9])"
      ]
     },
     "execution_count": 61,
     "metadata": {},
     "output_type": "execute_result"
    }
   ],
   "source": [
    "a1d **2"
   ]
  },
  {
   "cell_type": "code",
   "execution_count": 63,
   "id": "5b702c71-4def-484d-bff3-b5a9039ef169",
   "metadata": {},
   "outputs": [
    {
     "data": {
      "text/plain": [
       "array([[1, 2, 3],\n",
       "       [4, 5, 6]])"
      ]
     },
     "execution_count": 63,
     "metadata": {},
     "output_type": "execute_result"
    }
   ],
   "source": [
    "a2d"
   ]
  },
  {
   "cell_type": "code",
   "execution_count": 64,
   "id": "2131cc88-e5b6-45bc-ba9c-6c5a4e147725",
   "metadata": {},
   "outputs": [
    {
     "data": {
      "text/plain": [
       "array([[1, 0, 1],\n",
       "       [0, 1, 0]])"
      ]
     },
     "execution_count": 64,
     "metadata": {},
     "output_type": "execute_result"
    }
   ],
   "source": [
    "a2d%2"
   ]
  },
  {
   "cell_type": "code",
   "execution_count": 65,
   "id": "c7f7aed7-89ae-4627-8e54-46cc3b96e0f5",
   "metadata": {},
   "outputs": [],
   "source": [
    "### aggregation in numpy "
   ]
  },
  {
   "cell_type": "code",
   "execution_count": 66,
   "id": "76a2d40a-5823-49f3-a510-ad8a793ba837",
   "metadata": {},
   "outputs": [
    {
     "data": {
      "text/plain": [
       "array([1, 2, 3])"
      ]
     },
     "execution_count": 66,
     "metadata": {},
     "output_type": "execute_result"
    }
   ],
   "source": [
    "a1d"
   ]
  },
  {
   "cell_type": "code",
   "execution_count": 67,
   "id": "07fed91f-846b-4d3b-800b-4b7937086c77",
   "metadata": {},
   "outputs": [
    {
     "data": {
      "text/plain": [
       "np.int64(6)"
      ]
     },
     "execution_count": 67,
     "metadata": {},
     "output_type": "execute_result"
    }
   ],
   "source": [
    "sum(a1d)       #this iss python method :slower method "
   ]
  },
  {
   "cell_type": "code",
   "execution_count": 68,
   "id": "4ed5359e-2dbc-4627-9415-977659993b81",
   "metadata": {},
   "outputs": [
    {
     "data": {
      "text/plain": [
       "np.int64(6)"
      ]
     },
     "execution_count": 68,
     "metadata": {},
     "output_type": "execute_result"
    }
   ],
   "source": [
    "np.sum(a1d)   #this is numpy method : faster"
   ]
  },
  {
   "cell_type": "code",
   "execution_count": 71,
   "id": "32cc1311-5cde-4800-ab15-ff56b63d3a14",
   "metadata": {},
   "outputs": [],
   "source": [
    "lambi_array=np.random.random(10000) #for finding 10000 elemnt "
   ]
  },
  {
   "cell_type": "code",
   "execution_count": 73,
   "id": "a1c79e9d-0b9f-407c-9ddf-0b0eb6f0b17d",
   "metadata": {},
   "outputs": [
    {
     "data": {
      "text/plain": [
       "10000"
      ]
     },
     "execution_count": 73,
     "metadata": {},
     "output_type": "execute_result"
    }
   ],
   "source": [
    "lambi_array.size"
   ]
  },
  {
   "cell_type": "code",
   "execution_count": 74,
   "id": "51f8e8c6-b1b1-4efc-bf77-3a852db72ca6",
   "metadata": {},
   "outputs": [
    {
     "data": {
      "text/plain": [
       "array([0.16469416, 0.6214784 , 0.57722859, 0.23789282, 0.934214  ,\n",
       "       0.61396596, 0.5356328 , 0.58990998, 0.73012203, 0.311945  ,\n",
       "       0.39822106, 0.20984375, 0.18619301, 0.94437239, 0.7395508 ,\n",
       "       0.49045881, 0.22741463, 0.25435648, 0.05802916, 0.43441663])"
      ]
     },
     "execution_count": 74,
     "metadata": {},
     "output_type": "execute_result"
    }
   ],
   "source": [
    "lambi_array[:20]"
   ]
  },
  {
   "cell_type": "code",
   "execution_count": null,
   "id": "c6f83811-528e-4e6f-abbc-5ce34e7dd0bb",
   "metadata": {},
   "outputs": [],
   "source": [
    "%timeit sum(lambi_array)\n",
    "%timeit np.sum(lambi-array)        #for checking which one is more fast"
   ]
  },
  {
   "cell_type": "code",
   "execution_count": 77,
   "id": "c56e6c7c-fd9e-4482-808c-58aae014d48d",
   "metadata": {},
   "outputs": [
    {
     "data": {
      "text/plain": [
       "np.int64(3)"
      ]
     },
     "execution_count": 77,
     "metadata": {},
     "output_type": "execute_result"
    }
   ],
   "source": [
    "np.max(a1d)"
   ]
  },
  {
   "cell_type": "code",
   "execution_count": 79,
   "id": "fc458a5f-a11a-4476-bbce-a80e9e3902fc",
   "metadata": {},
   "outputs": [
    {
     "data": {
      "text/plain": [
       "np.int64(1)"
      ]
     },
     "execution_count": 79,
     "metadata": {},
     "output_type": "execute_result"
    }
   ],
   "source": [
    "np.min(a1d)"
   ]
  },
  {
   "cell_type": "code",
   "execution_count": 81,
   "id": "d48c0c4a-a39a-487f-9ffc-7455ab9fc2e1",
   "metadata": {},
   "outputs": [
    {
     "data": {
      "text/plain": [
       "np.float64(2.0)"
      ]
     },
     "execution_count": 81,
     "metadata": {},
     "output_type": "execute_result"
    }
   ],
   "source": [
    "#mean \n",
    "#std\n",
    "#variance\n",
    "np.mean(a1d)         #mean of a1d"
   ]
  },
  {
   "cell_type": "code",
   "execution_count": 83,
   "id": "d4b7f62d-e23a-4512-8d83-6976ecab8393",
   "metadata": {},
   "outputs": [
    {
     "data": {
      "text/plain": [
       "np.float64(0.6666666666666666)"
      ]
     },
     "execution_count": 83,
     "metadata": {},
     "output_type": "execute_result"
    }
   ],
   "source": [
    "np.var(a1d)    #variance of a1d"
   ]
  },
  {
   "cell_type": "code",
   "execution_count": 90,
   "id": "41aaae01-737b-40e1-b963-9a4196e69913",
   "metadata": {},
   "outputs": [
    {
     "data": {
      "text/plain": [
       "np.float64(0.816496580927726)"
      ]
     },
     "execution_count": 90,
     "metadata": {},
     "output_type": "execute_result"
    }
   ],
   "source": [
    "np.sqrt(np.var(a1d))  #standard deviation manually  \n",
    "\n"
   ]
  },
  {
   "cell_type": "code",
   "execution_count": 91,
   "id": "a134b8ce-7a97-481e-a05f-4cff0965d7bc",
   "metadata": {},
   "outputs": [
    {
     "data": {
      "text/plain": [
       "np.float64(0.816496580927726)"
      ]
     },
     "execution_count": 91,
     "metadata": {},
     "output_type": "execute_result"
    }
   ],
   "source": [
    "np.std(a1d)    #built in function for finding standard deviation  "
   ]
  },
  {
   "cell_type": "code",
   "execution_count": null,
   "id": "78ebbf0c-9ae8-4401-89c9-1ef624739e8a",
   "metadata": {},
   "outputs": [],
   "source": [
    "    "
   ]
  },
  {
   "cell_type": "code",
   "execution_count": null,
   "id": "984e8e6f-aa18-4410-9ec7-e40cc039f01d",
   "metadata": {},
   "outputs": [],
   "source": []
  },
  {
   "cell_type": "code",
   "execution_count": null,
   "id": "9da89e1e-b043-4fdc-acf1-8159a4602c1d",
   "metadata": {},
   "outputs": [],
   "source": []
  },
  {
   "cell_type": "code",
   "execution_count": null,
   "id": "9c84962c-7d4d-480e-bc18-f96965380eec",
   "metadata": {},
   "outputs": [],
   "source": []
  },
  {
   "cell_type": "code",
   "execution_count": null,
   "id": "5cace340-225d-4906-a68a-4d1b167b53ca",
   "metadata": {},
   "outputs": [],
   "source": []
  },
  {
   "cell_type": "code",
   "execution_count": null,
   "id": "f2f3b6a3-d71e-42f1-a3d8-72131eca1247",
   "metadata": {},
   "outputs": [],
   "source": []
  }
 ],
 "metadata": {
  "kernelspec": {
   "display_name": "Python 3 (ipykernel)",
   "language": "python",
   "name": "python3"
  },
  "language_info": {
   "codemirror_mode": {
    "name": "ipython",
    "version": 3
   },
   "file_extension": ".py",
   "mimetype": "text/x-python",
   "name": "python",
   "nbconvert_exporter": "python",
   "pygments_lexer": "ipython3",
   "version": "3.13.2"
  }
 },
 "nbformat": 4,
 "nbformat_minor": 5
}
